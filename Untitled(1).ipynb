{
 "cells": [
  {
   "cell_type": "markdown",
   "metadata": {},
   "source": [
    "# Dicas para utilizar o Python"
   ]
  },
  {
   "cell_type": "markdown",
   "metadata": {},
   "source": [
    "1. Utilize uma IDE (Spyder ou Visual Code ou PyCharm)\n",
    "2. Se você instalou a suíte Anaconda, não utilize o pip para atualizar os pacotes do Python. Utilize o 'conda' dentro do próprio Anaconda\n",
    "3. Se você for utilizar para algo rápido, vá direto para o interpretador. Se for algo mais demorado, faça um script e salve com a extensão .py"
   ]
  }
 ],
 "metadata": {
  "kernelspec": {
   "display_name": "Python 3",
   "language": "python",
   "name": "python3"
  },
  "language_info": {
   "codemirror_mode": {
    "name": "ipython",
    "version": 3
   },
   "file_extension": ".py",
   "mimetype": "text/x-python",
   "name": "python",
   "nbconvert_exporter": "python",
   "pygments_lexer": "ipython3",
   "version": "3.8.3"
  }
 },
 "nbformat": 4,
 "nbformat_minor": 4
}
